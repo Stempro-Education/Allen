{
 "cells": [
  {
   "cell_type": "code",
   "execution_count": null,
   "metadata": {
    "ExecuteTime": {
     "end_time": "2020-01-19T20:12:53.891471Z",
     "start_time": "2020-01-19T20:12:53.871473Z"
    }
   },
   "outputs": [],
   "source": [
    "from IPython.display import display, Markdown, Image\n",
    "display(Markdown(\n",
    "\"\"\"\n",
    "# Midterm Project Learning Status Check\n",
    "## Open Book Midterm:\n",
    "<ol>\n",
    "    <li><b>(200 Points)Project Statement</b><br>: What are we doing? and in high level, how we are doing it <br>You may review Phase I/II PowerPoints.<br>Words limit: 500 \n",
    "    <br></li>\n",
    "    <br><li><b>(200 Points)Impersonate and Search</b><br>:Sign in US News Compass and conduct 3 to 5 searches. <br> Save the results to HTML files (one file per search) \n",
    "    <br><a href=\"https://premium.usnews.com/best-colleges/myfit?gpa=4.0&mode=table&sat-composite=1580\">Compass Search</a>\n",
    "    <br>A sample file from search may look like this: <br>\n",
    "    <a href='./img/OneSampleCompassHtml.html'> One Sample file</a>\n",
    "    </li>\n",
    "    <br><li><b>(800 Points)Python and Content</b><br>Design and Implement a Class to extrat result from pages generated from questions. <br>Ideal output format should reflect at the following information:  </li>\n",
    "    <br> Search Criteria: <br><img src=\"./img/CompassSearchFields.PNG\" width=\"500\"/>\n",
    "    <br> Search Results: <br><img src=\"./img/CompassSearchResults.PNG\" width=\"500\"/></li>\n",
    "    <br><li><b>(400 Points)Scratching NLTK</b><br>Crawl the following page<br>\n",
    "    <a href=\"https://www.nme.com/features/greta-thunberg-full-speech-to-the-un-2019-climate-change-summit-2550824\">Greta Thunberg UN Speech</a></li>\n",
    "    <br> Tasks: \n",
    "    <br><ul>\n",
    "        <li>Get the content of her speech</li>\n",
    "        <li>Build a dataset that list all words in this speech and how many times each word appears</li>\n",
    "        <li>Sort the list of words by <br>a).Alphabetically. <br> b). by frequency\n",
    "        <li>Lemmatize all words</li>\n",
    "        <li>Choose ~30 \"difficult\" words and get the synonyms and antoyms for them.</li> \n",
    "    </ul>\n",
    "    </li>\n",
    "</ol>\n",
    "\"\"\"\n",
    "))   "
   ]
  },
  {
   "cell_type": "code",
   "execution_count": null,
   "metadata": {},
   "outputs": [],
   "source": [
    "#Question 3\n",
    "import beautifulsoup\n",
    "import pandas as pd\n",
    "\n",
    "class collegeinfo():\n",
    "     def __init__(self, File=''):\n",
    "        Path = Path(File) \n",
    "    "
   ]
  },
  {
   "cell_type": "code",
   "execution_count": null,
   "metadata": {
    "ExecuteTime": {
     "end_time": "2020-02-09T06:09:29.276688Z",
     "start_time": "2020-02-09T06:09:25.367304Z"
    }
   },
   "outputs": [],
   "source": [
    "#Question 4\n",
    "import nltk\n",
    "from nltk.corpus import wordnet as w\n",
    "import beautifulsoup\n",
    "\n",
    "def getSpeech(self):\n",
    "        pagetext = requests.get()\n",
    "\n",
    "def tag_visible(element):\n",
    "    if element.parent.name in ['style', 'script', 'head', 'title', 'meta', '[document]']:\n",
    "        return False\n",
    "\n",
    "def text_from_html(body):\n",
    "    soup = BeautifulSoup(body, 'html.parser')\n",
    "    texts = soup.findAll(text=True)\n",
    "    visible_texts = filter(tag_visible, texts)  \n",
    "    return u\" \".join(t.strip() for t in visible_texts)\n",
    "\n",
    "                \n",
    "def get_info(text):\n",
    "    get_all_words(text)\n",
    "    print(\"Alphabetically Sorted List\")\n",
    "    print(sorted(a))\n",
    "    print(\"Frequencey Sorted List\")\n",
    "    print(frequent(a))\n",
    "    print(\"Difficult Words, Antonyms, Synonyms\")\n",
    "    difficult_words(a)\n",
    "    print(\"Lemmatized List\")\n",
    "    print(lemmatize(a))\n",
    "    \n",
    "def get_all_words(text):\n",
    "    stuff = (\"https://www.nme.com/features/greta-thunberg-full-speech-to-the-un-2019-climate-change-summit-2550824\").read()\n",
    "    text_from_html(stuff)\n",
    "    f = ' '.join(text)\n",
    "    a = set(f.split());\n",
    "    \n",
    "def lemmatize(text):\n",
    "    for token in a:\n",
    "        token = lm.lemmatize(token) \n",
    "             \n",
    "def frequent(text):\n",
    "    fdist1 = FreqDist(f)\n",
    "    return set(fdist1.most_common(len(fdist1)))\n",
    "\n",
    "def difficult_words(text):\n",
    "    V = set(text)\n",
    "    long_words = [w for w in V if len(w) > 10]\n",
    "    words = sorted(long_words)\n",
    "    get_synonyms(words)\n",
    "    print(synonyms)\n",
    "    print(antonyms)\n",
    "    \n",
    "def get_synonyms(V):\n",
    "    synonyms = [] \n",
    "    antonyms = [] \n",
    "    for a in V:\n",
    "        synonyms.append(a.synonyms()[0].name())\n",
    "        antonyms.append(a.antonyms()[0].name()) \n"
   ]
  },
  {
   "cell_type": "markdown",
   "metadata": {},
   "source": [
    "<font size=6 color=green>Unfinished</font><div class=\"alert alert-info\"> \n",
    "Comments: \n",
    "<br>The structure and concept is very good. \n",
    "<br>beautifulsoup-->Beautifulsoup. it is sub of bs4 library\n",
    "<br>I will go through with you either Tuesday of Wed night tutorial\n",
    "</div>\n",
    "\n",
    "\n"
   ]
  },
  {
   "cell_type": "code",
   "execution_count": null,
   "metadata": {},
   "outputs": [],
   "source": []
  },
  {
   "cell_type": "code",
   "execution_count": null,
   "metadata": {
    "ExecuteTime": {
     "end_time": "2020-01-19T20:38:19.558091Z",
     "start_time": "2020-01-19T20:38:19.550090Z"
    }
   },
   "outputs": [],
   "source": [
    "display(Markdown(\n",
    "\"\"\"\n",
    "# Python Exam (For Python students):\n",
    "<ol>\n",
    "<li>(100 points)Write a program that contains a while loop that repeatedly asks the user to enter numeric miles they run each week.  Append each run to a list called “distance”. You may use this format [(“week1”, 23.1), (“week2”, 12.2)…]  \n",
    "</li><br><li>(100 points)Write a program that get the max, min, average, number of runs etc. \n",
    "</li><br><li>(100 points)Write a program that prompts the user to enter in an unlimited number of colors. Test to make sure that the user did not already enter a color before storing it (i.e. “We’re sorry, but you’ve already added the color ‘yellow’”). When the user types the string “exit” you should stop collecting colors. The print out the colors entered in alphabetical order.  \n",
    "</li><br><li>(100 points)Write a function that generates a random letter from the string ‘BINGO’. Here is a sample running of this program: x = generate_bingo_letter() print (x) \n",
    "</li><br><li>(100 points)Define a function fraction(fstring), where the argument passed in stores a fraction as a string. The function should return a floating point number that is the value of the fraction. \n",
    " \n",
    "Examples of using the function: <br>\n",
    "         print(fraction(“3/4”))  # prints  .750 <br>\n",
    "         print(fraction(“1/3”))  # prints   0.333 <br>\n",
    "     \n",
    " \n",
    "</li><br><li>(Bonus. 300 Points) Write a function balance_parens(astring) that inputs a string with parenthesized sub-­‐strings, which may be nested (e.g., could be a Python arithmetic expression). The function returns True if all of the parentheses that are opened are properly closed, otherwise it returns False. \n",
    "<br>\n",
    "For example, the following string is balanced: \n",
    "<br>\n",
    "“ A * ( (B + C) – (D – E) )” \n",
    "<br>\n",
    "And the following string is not balanced: \n",
    "<br> \n",
    "“  A ((B * C)  + (D      \n",
    "</li>\n",
    "</ol>\n",
    "\n",
    "\"\"\"\n",
    "))"
   ]
  },
  {
   "cell_type": "code",
   "execution_count": null,
   "metadata": {
    "ExecuteTime": {
     "end_time": "2020-02-09T06:10:04.632323Z",
     "start_time": "2020-02-09T06:09:55.990537Z"
    }
   },
   "outputs": [],
   "source": [
    "# Question 1\n",
    "keepgoing = True\n",
    "cur = 1\n",
    "milelist = []\n",
    "print('type exit to stop')\n",
    "while(keepgoing == True):\n",
    "    milenum = input('Please enter a how many miles you ran this week: ')\n",
    "    if milenum == 'exit':\n",
    "        keepgoing = False\n",
    "    curweek = \"Week\" + str(cur)\n",
    "    cur += 1\n",
    "    weekarray = [curweek, milenum]\n",
    "    milelist.append(weekarray)"
   ]
  },
  {
   "cell_type": "markdown",
   "metadata": {},
   "source": [
    "<font size=6 color=green> Q1 80/100</font><div class=\"alert alert-info\"> \n",
    "Comments: \n",
    "1. simple but work. \n",
    "2. need to handle none numeric inputs\n",
    "</div>"
   ]
  },
  {
   "cell_type": "code",
   "execution_count": null,
   "metadata": {
    "ExecuteTime": {
     "end_time": "2020-02-09T06:10:51.665766Z",
     "start_time": "2020-02-09T06:10:51.660768Z"
    }
   },
   "outputs": [],
   "source": [
    "# Question 2\n",
    "def info(list):\n",
    "    return [max(list), min(list), sum(list)/len(list), len(list), sum(list)]"
   ]
  },
  {
   "cell_type": "markdown",
   "metadata": {
    "ExecuteTime": {
     "end_time": "2020-02-09T06:11:29.470698Z",
     "start_time": "2020-02-09T06:11:29.464700Z"
    }
   },
   "source": [
    "<font size=6 color=green> Q2 75/100</font><div class=\"alert alert-info\"> \n",
    "Comments: \n",
    "1. You need test it. code is very good! \n",
    "2. please consider: a). numeric input or not. b). negative. c). i run 4.5 miles. not an integer. d). would be great to output which week has the max, and which has the min. (hint. either  change the \"distance\" data structure. or, use argmax. ) \n",
    "</div>"
   ]
  },
  {
   "cell_type": "code",
   "execution_count": null,
   "metadata": {
    "ExecuteTime": {
     "end_time": "2020-02-09T06:12:21.790465Z",
     "start_time": "2020-02-09T06:12:10.360941Z"
    }
   },
   "outputs": [],
   "source": [
    "# Question 3\n",
    "colors = []\n",
    "cont = True\n",
    "\n",
    "while cont == True:\n",
    "    \n",
    "    color = input('Please enter a color: ')\n",
    "    \n",
    "    if color == 'exit':\n",
    "        cont = False\n",
    "\n",
    "    elif color in colors:\n",
    "        print (\"Sorry but you've already added\" + color)\n",
    "\n",
    "    else:\n",
    "        colors.append(color)\n",
    "\n",
    "colors.sort()\n",
    "print (colors)"
   ]
  },
  {
   "cell_type": "markdown",
   "metadata": {},
   "source": [
    "<font size=6 color=green> Q3 90/100</font><div class=\"alert alert-info\"> \n",
    "Comments: \n",
    "1. Well Done\n",
    "2. Try dictionary. which will be O(1) instead of O(n)\n",
    "</div>"
   ]
  },
  {
   "cell_type": "code",
   "execution_count": null,
   "metadata": {},
   "outputs": [],
   "source": [
    "# Question 4\n",
    "import random \n",
    "def generate_bingo_letter():\n",
    "    bingo = \"BINGO\"\n",
    "    rand = random.randint(0,4)\n",
    "    print(bingo[rand])"
   ]
  },
  {
   "cell_type": "markdown",
   "metadata": {},
   "source": [
    "<font size=6 color=green> Q4 100/100</font><div class=\"alert alert-info\"> \n",
    "Comments: \n",
    "Well Done \n",
    "</div>"
   ]
  },
  {
   "cell_type": "code",
   "execution_count": null,
   "metadata": {
    "ExecuteTime": {
     "end_time": "2020-02-09T06:14:13.088775Z",
     "start_time": "2020-02-09T06:14:13.084738Z"
    }
   },
   "outputs": [],
   "source": [
    "# Question 5\n",
    "def fraction(fstring):\n",
    "    res = [int(i) for i in fstring if i.isdigit()] \n",
    "    return(res[0]/res[1])"
   ]
  },
  {
   "cell_type": "markdown",
   "metadata": {
    "ExecuteTime": {
     "end_time": "2020-02-09T06:15:32.625710Z",
     "start_time": "2020-02-09T06:15:32.619710Z"
    }
   },
   "source": [
    "<font size=6 color=green> Q5 60/100</font><div class=\"alert alert-info\"> \n",
    "Comments: \n",
    "<br>works for \\d/\\d fractions only. e.g., 2/3, 1/2.  \n",
    "<br>please consider 5 5/6, -4/9, 9/0 \n",
    "<br>The questions assumes: the input is valid fraction. To validate a fration, you may consider using regular expression\n",
    "<br>you may refer to the follow script\n",
    "</div>"
   ]
  },
  {
   "cell_type": "code",
   "execution_count": null,
   "metadata": {
    "ExecuteTime": {
     "end_time": "2020-02-09T06:15:52.802691Z",
     "start_time": "2020-02-09T06:15:52.796662Z"
    }
   },
   "outputs": [],
   "source": [
    "# Question 6\n",
    "def balance_parens(aString): \n",
    "    stack = [] \n",
    "    for i in aString: \n",
    "        if i == \"(\": \n",
    "            stack.append(i) \n",
    "        elif i == \")\": \n",
    "            pos = close_list.index(i) \n",
    "            if ((len(stack) > 0) and\n",
    "                (open_list[pos] == stack[len(stack)-1])): \n",
    "                stack.pop() \n",
    "            else: \n",
    "                return \"Unbalanced\"\n",
    "    if len(stack) == 0: \n",
    "        return \"Balanced\""
   ]
  },
  {
   "cell_type": "markdown",
   "metadata": {
    "ExecuteTime": {
     "end_time": "2020-02-09T06:17:35.338511Z",
     "start_time": "2020-02-09T06:17:35.331511Z"
    }
   },
   "source": [
    "<font size=6 color=green> Q6 200/300</font><div class=\"alert alert-info\"> \n",
    "Comments: \n",
    "<br>structure of the program in good. \n",
    "<br>close_list variable is missing\n",
    "<br>pretty creative solution; although not the most effective. can you think of stack?\n",
    "<br>challenge: how about there are other types? such as: [ { ] }?\n",
    "</div>"
   ]
  },
  {
   "cell_type": "code",
   "execution_count": null,
   "metadata": {
    "ExecuteTime": {
     "end_time": "2020-01-19T20:39:29.373093Z",
     "start_time": "2020-01-19T20:39:29.367092Z"
    }
   },
   "outputs": [],
   "source": [
    "display(Markdown(\n",
    "\"\"\"\n",
    "## You may use the following libraries for the exams. \n",
    "import re <br>\n",
    "import spacy  <br>\n",
    "from spacy import displacy <br>\n",
    "import en_core_web_sm <br>\n",
    "from pathlib import Path <br>\n",
    "from IPython.display import display, Markdown, Latex  <br>\n",
    "import sys <br>\n",
    "import csv <br>\n",
    "import pandas as pd <br>\n",
    "import numpy as np <br>\n",
    "import os <br>\n",
    "from os import path <br>\n",
    "from datetime import datetime <br>\n",
    "from urllib.parse import urlparse, urljoin <br>\n",
    "import requests <br>\n",
    "import ntpath <br>\n",
    "from bs4 import BeautifulSoup, Comment <br>\n",
    "import time <br>\n",
    "from pprint import pprint  <br>\n",
    "import shutil <br>\n",
    "#!pip install tldextract <br>\n",
    "import tldextract <br>\n",
    "import multiprocessing <br>\n",
    "from multiprocessing import Process, Queue, cpu_count <br>\n",
    "import os <br>\n",
    "from os import path, listdir  <br>\n",
    "\"\"\"\n",
    "))\n"
   ]
  },
  {
   "cell_type": "code",
   "execution_count": null,
   "metadata": {},
   "outputs": [],
   "source": []
  },
  {
   "cell_type": "code",
   "execution_count": null,
   "metadata": {},
   "outputs": [],
   "source": []
  },
  {
   "cell_type": "code",
   "execution_count": null,
   "metadata": {},
   "outputs": [],
   "source": []
  }
 ],
 "metadata": {
  "kernelspec": {
   "display_name": "Python 3",
   "language": "python",
   "name": "python3"
  },
  "language_info": {
   "codemirror_mode": {
    "name": "ipython",
    "version": 3
   },
   "file_extension": ".py",
   "mimetype": "text/x-python",
   "name": "python",
   "nbconvert_exporter": "python",
   "pygments_lexer": "ipython3",
   "version": "3.7.5"
  },
  "toc": {
   "base_numbering": 1,
   "nav_menu": {},
   "number_sections": true,
   "sideBar": true,
   "skip_h1_title": false,
   "title_cell": "Table of Contents",
   "title_sidebar": "Contents",
   "toc_cell": false,
   "toc_position": {},
   "toc_section_display": true,
   "toc_window_display": true
  }
 },
 "nbformat": 4,
 "nbformat_minor": 2
}
